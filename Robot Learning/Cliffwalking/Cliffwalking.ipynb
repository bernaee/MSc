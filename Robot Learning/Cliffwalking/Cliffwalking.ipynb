{
 "cells": [
  {
   "cell_type": "code",
   "execution_count": 1,
   "metadata": {
    "pycharm": {}
   },
   "outputs": [],
   "source": [
    "import os\n",
    "import sys\n",
    "nb_dir = os.path.split(os.getcwd())[0]\n",
    "if nb_dir not in sys.path:\n",
    "    sys.path.append(nb_dir)"
   ]
  },
  {
   "cell_type": "code",
   "execution_count": 3,
   "metadata": {
    "pycharm": {}
   },
   "outputs": [],
   "source": [
    "%matplotlib inline\n",
    "import numpy as np\n",
    "import random\n",
    "import matplotlib.pyplot as plt\n",
    "from Cliffwalking import Grid\n",
    "from Cliffwalking import State"
   ]
  },
  {
   "cell_type": "code",
   "execution_count": 4,
   "metadata": {
    "pycharm": {}
   },
   "outputs": [],
   "source": [
    "EPSILON = 0.1"
   ]
  },
  {
   "cell_type": "code",
   "execution_count": 5,
   "metadata": {
    "pycharm": {}
   },
   "outputs": [],
   "source": [
    "def epsilon_greedy(state, q_values):\n",
    "    actions = list(q_values[state.y][state.x].keys())\n",
    "    if random.random() < EPSILON:\n",
    "        action = random.choice(actions)\n",
    "    else:\n",
    "        action_values = [q_values[state.y][state.x].get(action) for action in actions]\n",
    "        max_action_value = max(action_values)\n",
    "        arg_max_indexes = [i for i in range(len(action_values)) if action_values[i] == max_action_value]\n",
    "        action = actions[random.choice(arg_max_indexes)]\n",
    "    return action"
   ]
  },
  {
   "cell_type": "code",
   "execution_count": 6,
   "metadata": {
    "pycharm": {}
   },
   "outputs": [],
   "source": [
    "def get_action_with_max_q_value(state, q_values):\n",
    "    actions = list(q_values[state.y][state.x].keys())\n",
    "    action_values = [q_values[state.y][state.x].get(action) for action in actions]\n",
    "    max_action_value = max(action_values)\n",
    "    arg_max_indexes = [i for i in range(len(action_values)) if action_values[i] == max_action_value]\n",
    "    action = actions[random.choice(arg_max_indexes)]\n",
    "    return action"
   ]
  },
  {
   "cell_type": "code",
   "execution_count": 7,
   "metadata": {
    "pycharm": {}
   },
   "outputs": [],
   "source": [
    "def sarsa(grid, epoch, alpha, gamma):\n",
    "    paths = []\n",
    "    rewards = []\n",
    "    q_values = grid.init_q_values()\n",
    "    for i in range(epoch):\n",
    "        path = []\n",
    "        current_state = grid.start_state\n",
    "        action = epsilon_greedy(current_state, q_values)\n",
    "        total_reward = 0.0\n",
    "        while current_state != grid.goal_state:\n",
    "            path = path + [current_state]\n",
    "            # print('Current x:%s and y:%s' % (current_state.x, current_state.y))\n",
    "            # print('Take action %s' % action)\n",
    "            next_state = grid.take_action(current_state, action)\n",
    "            # print('Next x:%s and y:%s' % (next_state.x, next_state.y))\n",
    "            reward = next_state.reward\n",
    "            next_action = epsilon_greedy(next_state, q_values)\n",
    "            # print('Take next action %s' % next_action)\n",
    "            q_values[current_state.y][current_state.x][action] = q_values[current_state.y][current_state.x][\n",
    "                                                                     action] + alpha * (\n",
    "                                                                         reward + gamma *\n",
    "                                                                         q_values[next_state.y][next_state.x][\n",
    "                                                                             next_action] -\n",
    "                                                                         q_values[current_state.y][current_state.x][\n",
    "                                                                             action])\n",
    "\n",
    "            current_state = next_state\n",
    "            action = next_action\n",
    "            total_reward += reward\n",
    "        path = path + [grid.goal_state]\n",
    "        paths.append(path)\n",
    "        rewards.append([total_reward])\n",
    "    return paths, rewards"
   ]
  },
  {
   "cell_type": "code",
   "execution_count": 8,
   "metadata": {
    "pycharm": {}
   },
   "outputs": [],
   "source": [
    "def qlearning(grid, epoch, alpha, gamma):\n",
    "    paths = []\n",
    "    rewards = []\n",
    "    q_values = grid.init_q_values()\n",
    "    for i in range(epoch):\n",
    "        path = []\n",
    "        current_state = grid.start_state\n",
    "        total_reward = 0.0\n",
    "        while current_state != grid.goal_state:\n",
    "            path = path + [current_state]\n",
    "            action = epsilon_greedy(current_state, q_values)\n",
    "            # print('Current x:%s and y:%s' % (current_state.x, current_state.y))\n",
    "            # print('Take action %s' % action)\n",
    "            next_state = grid.take_action(current_state, action)\n",
    "            # print('Next x:%s and y:%s' % (next_state.x, next_state.y))\n",
    "            reward = next_state.reward\n",
    "            next_action = get_action_with_max_q_value(next_state, q_values)\n",
    "            # print('Take next action %s' % next_action)\n",
    "            q_values[current_state.y][current_state.x][action] = q_values[current_state.y][current_state.x][\n",
    "                                                                     action] + alpha * (\n",
    "                                                                         reward + gamma *\n",
    "                                                                         q_values[next_state.y][next_state.x][\n",
    "                                                                             next_action] -\n",
    "                                                                         q_values[current_state.y][current_state.x][\n",
    "                                                                             action])\n",
    "            current_state = next_state\n",
    "            total_reward += reward\n",
    "        path = path + [grid.goal_state]\n",
    "        paths.append(path)\n",
    "        rewards = rewards + [total_reward]\n",
    "    return paths, rewards"
   ]
  },
  {
   "cell_type": "code",
   "execution_count": 13,
   "metadata": {
    "pycharm": {}
   },
   "outputs": [],
   "source": [
    "epoch = 4000\n",
    "alpha = 0.5\n",
    "gamma = 1.0\n",
    "grid = Grid(4, 12)\n",
    "sarsa_paths, sarsa_rewards = sarsa(grid, epoch, alpha, gamma)\n",
    "qlearning_paths, qlearning_rewards = qlearning(grid, epoch, alpha, gamma)"
   ]
  },
  {
   "cell_type": "code",
   "execution_count": 14,
   "metadata": {
    "pycharm": {}
   },
   "outputs": [
    {
     "name": "stdout",
     "output_type": "stream",
     "text": [
      "Sarsa Path \n",
      "\n",
      "0 1 1 1 1 1 1 1 1 1 1 1 \n",
      "1 1 0 0 0 0 0 0 0 0 0 1 \n",
      "1 0 0 0 0 0 0 0 0 0 0 1 \n",
      "1 C C C C C C C C C C 1 \n",
      "\n"
     ]
    }
   ],
   "source": [
    "print('Sarsa Path \\n')\n",
    "grid.print_path(sarsa_paths[-1])"
   ]
  },
  {
   "cell_type": "code",
   "execution_count": 15,
   "metadata": {
    "pycharm": {}
   },
   "outputs": [
    {
     "name": "stdout",
     "output_type": "stream",
     "text": [
      "Q-Learning Path \n",
      "\n",
      "0 0 0 0 0 0 0 0 0 0 0 0 \n",
      "0 0 0 0 0 0 0 0 0 0 0 0 \n",
      "1 1 1 1 1 1 1 1 1 1 1 1 \n",
      "1 C C C C C C C C C C 1 \n",
      "\n"
     ]
    }
   ],
   "source": [
    "print('Q-Learning Path \\n')\n",
    "grid.print_path(qlearning_paths[-1])"
   ]
  },
  {
   "cell_type": "code",
   "execution_count": 16,
   "metadata": {
    "pycharm": {}
   },
   "outputs": [],
   "source": [
    "## NOTE: Used code in http://scipy-cookbook.readthedocs.io/items/SignalSmooth.html\n",
    "def smooth(x,window_len=200,window='hanning'):\n",
    "    s=np.r_[x[window_len-1:0:-1],x,x[-2:-window_len-1:-1]]\n",
    "    if window == 'flat': #moving average\n",
    "        w=np.ones(window_len,'d')\n",
    "    else:\n",
    "        w=eval('np.'+window+'(window_len)')\n",
    "    y=np.convolve(w/w.sum(),s,mode='valid')\n",
    "    return y\n"
   ]
  },
  {
   "cell_type": "code",
   "execution_count": 17,
   "metadata": {
    "pycharm": {}
   },
   "outputs": [],
   "source": [
    "smoothed_sarsa = smooth(np.ravel(sarsa_rewards))\n",
    "smoothed_qlearning = smooth(np.ravel(qlearning_rewards))"
   ]
  },
  {
   "cell_type": "code",
   "execution_count": 18,
   "metadata": {
    "pycharm": {}
   },
   "outputs": [
    {
     "data": {
      "image/png": "[encoded data removed]",
      "text/plain": [
       "<Figure size 432x288 with 1 Axes>"
      ]
     },
     "metadata": {
      "needs_background": "light"
     },
     "output_type": "display_data"
    }
   ],
   "source": [
    "t = np.arange(0, len(smoothed_sarsa), 1)\n",
    "plt.plot(smoothed_sarsa, 'r-',label=\"Sarsa\")\n",
    "plt.plot(smoothed_qlearning, 'b-',label=\"Q-Learning\")\n",
    "plt.legend()\n",
    "\n",
    "plt.show()"
   ]
  }
 ],
 "metadata": {
  "kernelspec": {
   "display_name": "Python 3",
   "language": "python",
   "name": "python3"
  },
  "language_info": {
   "codemirror_mode": {
    "name": "ipython",
    "version": 3
   },
   "file_extension": ".py",
   "mimetype": "text/x-python",
   "name": "python",
   "nbconvert_exporter": "python",
   "pygments_lexer": "ipython3",
   "version": "3.6.9"
  }
 },
 "nbformat": 4,
 "nbformat_minor": 1
}
