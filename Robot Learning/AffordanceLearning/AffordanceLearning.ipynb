{
 "cells": [
  {
   "cell_type": "markdown",
   "metadata": {},
   "source": [
    "## Goal emulation and planning in perceptual space using learned affordances\n",
    "- The learning process consists of the following two steps: \n",
    "    - The unsupervised learning of effect categories\n",
    "    - The learning of mapping from object features to the effect categories. "
   ]
  },
  {
   "cell_type": "code",
   "execution_count": 1,
   "metadata": {
    "colab": {},
    "colab_type": "code",
    "id": "DbELyZ9Zr_us"
   },
   "outputs": [],
   "source": [
    "%matplotlib inline\n",
    "import copy\n",
    "import matplotlib.pyplot as plt\n",
    "import numpy as np\n",
    "import pandas as pd\n",
    "from scipy.io import arff\n",
    "from io import StringIO\n",
    "from sklearn import model_selection\n",
    "from sklearn.metrics import accuracy_score\n",
    "from sklearn.svm import SVC\n",
    "from sklearn.preprocessing import StandardScaler\n",
    "from sklearn.preprocessing import Normalizer"
   ]
  },
  {
   "cell_type": "code",
   "execution_count": 2,
   "metadata": {
    "colab": {},
    "colab_type": "code",
    "id": "qCXWvF5vr_uz"
   },
   "outputs": [],
   "source": [
    "def read_arff(fPath):\n",
    "    content=\"\"\n",
    "    f = StringIO(content)\n",
    "    data, meta = arff.loadarff(fPath)\n",
    "    return data"
   ]
  },
  {
   "cell_type": "code",
   "execution_count": 3,
   "metadata": {
    "colab": {},
    "colab_type": "code",
    "id": "unKr7O9Hr_u3"
   },
   "outputs": [],
   "source": [
    "def run_SVM(train, train_label, test, test_label):\n",
    "    svm_clf = SVC(decision_function_shape='ovr')\n",
    "    svm_clf.set_params(C= 100,\n",
    "    gamma= 0.001,\n",
    "    kernel= 'rbf')\n",
    "    svm_clf.fit(train, train_label)\n",
    "    pred = svm_clf.predict(test)\n",
    "    svm_acc = accuracy_score(test_label, pred)\n",
    "    print(svm_acc)\n",
    "    return  pred"
   ]
  },
  {
   "cell_type": "code",
   "execution_count": 4,
   "metadata": {
    "colab": {},
    "colab_type": "code",
    "id": "iEqwKlvZr_u7"
   },
   "outputs": [],
   "source": [
    "def calc_acc(test_label, pred_label):\n",
    "    channel_dict = dict()\n",
    "    for c in set(test_label):\n",
    "        channel_dict[c]={'Actual':0,'Pred':0}\n",
    "    for actual, prediction in zip(test_label,pred_label):\n",
    "        channel_dict[actual]['Actual'] += 1\n",
    "        if actual==prediction:\n",
    "            channel_dict[actual]['Pred'] += 1\n",
    "    df_acc = pd.DataFrame(channel_dict).T\n",
    "    df_acc['Accuracy'] = round((df_acc['Pred'] / df_acc['Actual'])*100,2)\n",
    "    return df_acc"
   ]
  },
  {
   "cell_type": "code",
   "execution_count": 5,
   "metadata": {
    "colab": {},
    "colab_type": "code",
    "id": "d8j570U0r_vA"
   },
   "outputs": [],
   "source": [
    "def standardize(df_std,cols):\n",
    "    scaler = StandardScaler()\n",
    "    for col in cols:\n",
    "        scaler = scaler.fit(df_std[[col]])\n",
    "        standardized = scaler.transform(df_std[[col]])\n",
    "        df_std[col+'_std']=standardized\n",
    "    return df_std"
   ]
  },
  {
   "cell_type": "code",
   "execution_count": 6,
   "metadata": {
    "colab": {},
    "colab_type": "code",
    "id": "wzmBswYBr_vE"
   },
   "outputs": [],
   "source": [
    "def normalize(df_nor,cols):\n",
    "    normalizer = Normalizer()\n",
    "    for col in cols:\n",
    "        normalizer = normalizer.fit(df_nor[[col]])\n",
    "        normalized = normalizer.transform(df_nor[[col]])\n",
    "        df_nor[col+'_nor']=normalized\n",
    "    return df_nor"
   ]
  },
  {
   "cell_type": "markdown",
   "metadata": {},
   "source": [
    "### Effect Category Discovery for Behavior#3\n",
    "- In the lower level, clustering in the space of each channel (visibility, position and shape) results in the discovery of channel-specific effect categories.\n",
    "- In the upper level, the channel-specific effect categories are merged to discover all-channel effect categories using the Cartesian product operation."
   ]
  },
  {
   "cell_type": "code",
   "execution_count": 131,
   "metadata": {
    "colab": {},
    "colab_type": "code",
    "id": "ruo0c0y3r_vI"
   },
   "outputs": [],
   "source": [
    "f_paths =['/home/berna/PycharmProjects/MSc/Robot Learning/AffordanceLearning/result/result_3/channel_1.arff',\n",
    "          '/home/berna/PycharmProjects/MSc/Robot Learning/AffordanceLearning/result/result_3/channel_2.arff',\n",
    "          '/home/berna/PycharmProjects/MSc/Robot Learning/AffordanceLearning/result/result_3/channel_3.arff']\n",
    "object_feature_f_path = '/home/berna/PycharmProjects/MSc/Robot Learning/AffordanceLearning/result/initial/initial_3.arff'"
   ]
  },
  {
   "cell_type": "code",
   "execution_count": 132,
   "metadata": {
    "colab": {},
    "colab_type": "code",
    "id": "uimxEC8Vr_vM"
   },
   "outputs": [],
   "source": [
    "target='Channel'\n",
    "channels = ['Channel_1','Channel_2', 'Channel_3', ]\n",
    "all_features= [ 'f_000', 'f_001', 'f_002', 'f_003', 'f_004', 'f_005',\n",
    "       'f_006', 'f_007', 'f_008', 'f_009', 'f_010', 'f_011', 'f_012', 'f_013',\n",
    "       'f_014', 'f_015', 'f_016', 'f_017', 'f_018', 'f_019', 'f_020', 'f_021',\n",
    "       'f_022', 'f_023', 'f_024', 'f_025', 'f_026', 'f_027', 'f_028', 'f_029',\n",
    "       'f_030', 'f_031', 'f_032', 'f_033', 'f_034', 'f_035', 'f_036', 'f_037',\n",
    "       'f_038', 'f_039', 'f_040', 'f_041', 'f_042']\n",
    "feature_set_1 = ['f_000']\n",
    "feature_set_2 = ['f_001', 'f_002', 'f_003', 'f_004', 'f_005','f_006']\n",
    "feature_set_3 = ['f_007', 'f_008', 'f_009', 'f_010', 'f_011', 'f_012', 'f_013',\n",
    "       'f_014', 'f_015', 'f_016', 'f_017', 'f_018', 'f_019', 'f_020', 'f_021',\n",
    "       'f_022', 'f_023', 'f_024', 'f_025', 'f_026', 'f_027', 'f_028', 'f_029',\n",
    "       'f_030', 'f_031', 'f_032', 'f_033', 'f_034', 'f_035', 'f_036', 'f_037',\n",
    "       'f_038', 'f_039', 'f_040', 'f_041', 'f_042']\n",
    "all_features_std = [f + '_std' for f in all_features]\n",
    "feature_set_1_std = [f + '_std' for f in feature_set_1]\n",
    "feature_set_2_std = [f + '_std' for f in feature_set_2]\n",
    "feature_set_3_std = [f + '_std' for f in feature_set_3]\n",
    "all_features_nor = [f + '_nor' for f in all_features]\n",
    "feature_set_1_nor = [f + '_nor' for f in feature_set_1]\n",
    "feature_set_2_nor = [f + '_nor' for f in feature_set_2]\n",
    "feature_set_3_nor = [f + '_nor' for f in feature_set_3]"
   ]
  },
  {
   "cell_type": "code",
   "execution_count": 133,
   "metadata": {
    "colab": {},
    "colab_type": "code",
    "id": "JGnn2zy1r_vR"
   },
   "outputs": [],
   "source": [
    "low_channels = []\n",
    "for idx,fPath in enumerate(f_paths):\n",
    "    channel = read_arff(fPath)\n",
    "    df = pd.DataFrame(channel)[['Instance_number','Cluster']]\n",
    "    df['Cluster'] = df['Cluster'].apply(lambda x: 'chan' + str(idx +1) + '_' + str(x, 'utf-8'))\n",
    "    df = df.rename(columns={'Cluster': 'Channel_' + str(idx +1)})\n",
    "    low_channels.append(df)"
   ]
  },
  {
   "cell_type": "code",
   "execution_count": 134,
   "metadata": {
    "colab": {},
    "colab_type": "code",
    "id": "If6NoCnfr_vU"
   },
   "outputs": [],
   "source": [
    "df_cluster = pd.merge(pd.merge(low_channels[0],low_channels[1],on='Instance_number'),low_channels[2],on='Instance_number')\n",
    "df_cluster['Channel'] = df_cluster['Channel_1'] + '_' + df_cluster['Channel_2'] + '_' + df_cluster['Channel_3']\n"
   ]
  },
  {
   "cell_type": "markdown",
   "metadata": {},
   "source": [
    "#### The Visibility Channel (Channel#1)"
   ]
  },
  {
   "cell_type": "code",
   "execution_count": 135,
   "metadata": {
    "colab": {},
    "colab_type": "code",
    "id": "jYd5e8KUr_vY",
    "outputId": "3034d582-d9de-40e2-e4c5-e1153f0f2cb5"
   },
   "outputs": [
    {
     "data": {
      "text/html": [
       "<div>\n",
       "<style scoped>\n",
       "    .dataframe tbody tr th:only-of-type {\n",
       "        vertical-align: middle;\n",
       "    }\n",
       "\n",
       "    .dataframe tbody tr th {\n",
       "        vertical-align: top;\n",
       "    }\n",
       "\n",
       "    .dataframe thead th {\n",
       "        text-align: right;\n",
       "    }\n",
       "</style>\n",
       "<table border=\"1\" class=\"dataframe\">\n",
       "  <thead>\n",
       "    <tr style=\"text-align: right;\">\n",
       "      <th></th>\n",
       "      <th>Instance_number</th>\n",
       "    </tr>\n",
       "    <tr>\n",
       "      <th>Channel_1</th>\n",
       "      <th></th>\n",
       "    </tr>\n",
       "  </thead>\n",
       "  <tbody>\n",
       "    <tr>\n",
       "      <th>chan1_cluster0</th>\n",
       "      <td>22.59</td>\n",
       "    </tr>\n",
       "    <tr>\n",
       "      <th>chan1_cluster1</th>\n",
       "      <td>77.41</td>\n",
       "    </tr>\n",
       "  </tbody>\n",
       "</table>\n",
       "</div>"
      ],
      "text/plain": [
       "                Instance_number\n",
       "Channel_1                      \n",
       "chan1_cluster0            22.59\n",
       "chan1_cluster1            77.41"
      ]
     },
     "execution_count": 135,
     "metadata": {},
     "output_type": "execute_result"
    }
   ],
   "source": [
    "(df_cluster.groupby(['Channel_1']).count()[['Instance_number']] / df_cluster.count()[['Instance_number']]*100).round(2)"
   ]
  },
  {
   "cell_type": "code",
   "execution_count": 136,
   "metadata": {
    "colab": {},
    "colab_type": "code",
    "id": "a7g2NOPvr_vu",
    "outputId": "f3c98f2f-1122-49f8-89f5-0b1f3168ea51"
   },
   "outputs": [
    {
     "data": {
      "text/plain": [
       "<matplotlib.axes._subplots.AxesSubplot at 0x7ff4d1d52a58>"
      ]
     },
     "execution_count": 136,
     "metadata": {},
     "output_type": "execute_result"
    },
    {
     "data": {
      "image/png": "[encoded data removed]",
      "text/plain": [
       "<Figure size 432x288 with 1 Axes>"
      ]
     },
     "metadata": {
      "needs_background": "light"
     },
     "output_type": "display_data"
    }
   ],
   "source": [
    "df_cluster_features.groupby('Channel_1').mean().reset_index()[['Channel_1'] + feature_set_1].plot(x='Channel_1',kind='bar')"
   ]
  },
  {
   "cell_type": "markdown",
   "metadata": {},
   "source": [
    "#### The Position Channel (Channel#2)"
   ]
  },
  {
   "cell_type": "code",
   "execution_count": 137,
   "metadata": {
    "colab": {},
    "colab_type": "code",
    "id": "w3pEcPkLr_ve",
    "outputId": "b79fa206-8c6d-4f7b-fadf-5f04136242b9"
   },
   "outputs": [
    {
     "data": {
      "text/html": [
       "<div>\n",
       "<style scoped>\n",
       "    .dataframe tbody tr th:only-of-type {\n",
       "        vertical-align: middle;\n",
       "    }\n",
       "\n",
       "    .dataframe tbody tr th {\n",
       "        vertical-align: top;\n",
       "    }\n",
       "\n",
       "    .dataframe thead th {\n",
       "        text-align: right;\n",
       "    }\n",
       "</style>\n",
       "<table border=\"1\" class=\"dataframe\">\n",
       "  <thead>\n",
       "    <tr style=\"text-align: right;\">\n",
       "      <th></th>\n",
       "      <th>Instance_number</th>\n",
       "    </tr>\n",
       "    <tr>\n",
       "      <th>Channel_2</th>\n",
       "      <th></th>\n",
       "    </tr>\n",
       "  </thead>\n",
       "  <tbody>\n",
       "    <tr>\n",
       "      <th>chan2_cluster0</th>\n",
       "      <td>16.61</td>\n",
       "    </tr>\n",
       "    <tr>\n",
       "      <th>chan2_cluster1</th>\n",
       "      <td>31.77</td>\n",
       "    </tr>\n",
       "    <tr>\n",
       "      <th>chan2_cluster2</th>\n",
       "      <td>50.56</td>\n",
       "    </tr>\n",
       "    <tr>\n",
       "      <th>chan2_cluster3</th>\n",
       "      <td>1.07</td>\n",
       "    </tr>\n",
       "  </tbody>\n",
       "</table>\n",
       "</div>"
      ],
      "text/plain": [
       "                Instance_number\n",
       "Channel_2                      \n",
       "chan2_cluster0            16.61\n",
       "chan2_cluster1            31.77\n",
       "chan2_cluster2            50.56\n",
       "chan2_cluster3             1.07"
      ]
     },
     "execution_count": 137,
     "metadata": {},
     "output_type": "execute_result"
    }
   ],
   "source": [
    "(df_cluster.groupby(['Channel_2']).count()[['Instance_number']] / df_cluster.count()[['Instance_number']]*100).round(2)"
   ]
  },
  {
   "cell_type": "code",
   "execution_count": 138,
   "metadata": {
    "colab": {},
    "colab_type": "code",
    "id": "QAR23mUCr_vx",
    "outputId": "60f55f85-0a22-4718-f0c6-d3bba7a98789"
   },
   "outputs": [
    {
     "data": {
      "text/plain": [
       "<matplotlib.axes._subplots.AxesSubplot at 0x7ff4d21bf438>"
      ]
     },
     "execution_count": 138,
     "metadata": {},
     "output_type": "execute_result"
    },
    {
     "data": {
      "image/png": "[encoded data removed]",
      "text/plain": [
       "<Figure size 864x576 with 1 Axes>"
      ]
     },
     "metadata": {
      "needs_background": "light"
     },
     "output_type": "display_data"
    }
   ],
   "source": [
    "df_cluster_features.groupby('Channel_2').mean().reset_index()[['Channel_2'] + feature_set_2].plot(x='Channel_2',kind='bar',figsize=(12,8))"
   ]
  },
  {
   "cell_type": "markdown",
   "metadata": {},
   "source": [
    "#### The Shape Channel (Channel#3)"
   ]
  },
  {
   "cell_type": "code",
   "execution_count": 139,
   "metadata": {
    "colab": {},
    "colab_type": "code",
    "id": "sVPSDDjqr_vi",
    "outputId": "cd297985-5d2b-448f-acde-ed7cf35d5393"
   },
   "outputs": [
    {
     "data": {
      "text/html": [
       "<div>\n",
       "<style scoped>\n",
       "    .dataframe tbody tr th:only-of-type {\n",
       "        vertical-align: middle;\n",
       "    }\n",
       "\n",
       "    .dataframe tbody tr th {\n",
       "        vertical-align: top;\n",
       "    }\n",
       "\n",
       "    .dataframe thead th {\n",
       "        text-align: right;\n",
       "    }\n",
       "</style>\n",
       "<table border=\"1\" class=\"dataframe\">\n",
       "  <thead>\n",
       "    <tr style=\"text-align: right;\">\n",
       "      <th></th>\n",
       "      <th>Instance_number</th>\n",
       "    </tr>\n",
       "    <tr>\n",
       "      <th>Channel_3</th>\n",
       "      <th></th>\n",
       "    </tr>\n",
       "  </thead>\n",
       "  <tbody>\n",
       "    <tr>\n",
       "      <th>chan3_cluster0</th>\n",
       "      <td>3.42</td>\n",
       "    </tr>\n",
       "    <tr>\n",
       "      <th>chan3_cluster1</th>\n",
       "      <td>6.91</td>\n",
       "    </tr>\n",
       "    <tr>\n",
       "      <th>chan3_cluster2</th>\n",
       "      <td>14.53</td>\n",
       "    </tr>\n",
       "    <tr>\n",
       "      <th>chan3_cluster3</th>\n",
       "      <td>75.13</td>\n",
       "    </tr>\n",
       "  </tbody>\n",
       "</table>\n",
       "</div>"
      ],
      "text/plain": [
       "                Instance_number\n",
       "Channel_3                      \n",
       "chan3_cluster0             3.42\n",
       "chan3_cluster1             6.91\n",
       "chan3_cluster2            14.53\n",
       "chan3_cluster3            75.13"
      ]
     },
     "execution_count": 139,
     "metadata": {},
     "output_type": "execute_result"
    }
   ],
   "source": [
    "(df_cluster.groupby(['Channel_3']).count()[['Instance_number']] / df_cluster.count()[['Instance_number']]*100).round(2)"
   ]
  },
  {
   "cell_type": "code",
   "execution_count": 140,
   "metadata": {
    "colab": {},
    "colab_type": "code",
    "id": "BUDt7zUrr_v1",
    "outputId": "90443a91-baba-4c4c-9cd8-c53bc9362923"
   },
   "outputs": [
    {
     "data": {
      "text/plain": [
       "<matplotlib.axes._subplots.AxesSubplot at 0x7ff4d1b9d978>"
      ]
     },
     "execution_count": 140,
     "metadata": {},
     "output_type": "execute_result"
    },
    {
     "data": {
      "image/png": "[encoded data removed]",
      "text/plain": [
       "<Figure size 1440x864 with 1 Axes>"
      ]
     },
     "metadata": {
      "needs_background": "light"
     },
     "output_type": "display_data"
    }
   ],
   "source": [
    "df_cluster_features.groupby('Channel_3').mean().reset_index()[['Channel_3'] + feature_set_3].plot(x='Channel_3',kind='bar',figsize=(20,12))"
   ]
  },
  {
   "cell_type": "code",
   "execution_count": 141,
   "metadata": {
    "colab": {},
    "colab_type": "code",
    "id": "F2LBB5Mqr_vq"
   },
   "outputs": [],
   "source": [
    "df_cluster_features = pd.merge(df_cluster,pd.DataFrame(channel)[all_features +['Instance_number']],on=['Instance_number'])\n",
    "#df_cluster_features = normalize(df_cluster_features,all_features)"
   ]
  },
  {
   "cell_type": "markdown",
   "metadata": {},
   "source": [
    "#### All-channel Effect Categories"
   ]
  },
  {
   "cell_type": "code",
   "execution_count": 142,
   "metadata": {},
   "outputs": [
    {
     "data": {
      "text/html": [
       "<div>\n",
       "<style scoped>\n",
       "    .dataframe tbody tr th:only-of-type {\n",
       "        vertical-align: middle;\n",
       "    }\n",
       "\n",
       "    .dataframe tbody tr th {\n",
       "        vertical-align: top;\n",
       "    }\n",
       "\n",
       "    .dataframe thead th {\n",
       "        text-align: right;\n",
       "    }\n",
       "</style>\n",
       "<table border=\"1\" class=\"dataframe\">\n",
       "  <thead>\n",
       "    <tr style=\"text-align: right;\">\n",
       "      <th></th>\n",
       "      <th>Instance_number</th>\n",
       "    </tr>\n",
       "    <tr>\n",
       "      <th>Channel</th>\n",
       "      <th></th>\n",
       "    </tr>\n",
       "  </thead>\n",
       "  <tbody>\n",
       "    <tr>\n",
       "      <th>chan1_cluster0_chan2_cluster2_chan3_cluster3</th>\n",
       "      <td>22.59</td>\n",
       "    </tr>\n",
       "    <tr>\n",
       "      <th>chan1_cluster1_chan2_cluster0_chan3_cluster0</th>\n",
       "      <td>0.10</td>\n",
       "    </tr>\n",
       "    <tr>\n",
       "      <th>chan1_cluster1_chan2_cluster0_chan3_cluster1</th>\n",
       "      <td>0.40</td>\n",
       "    </tr>\n",
       "    <tr>\n",
       "      <th>chan1_cluster1_chan2_cluster0_chan3_cluster2</th>\n",
       "      <td>12.65</td>\n",
       "    </tr>\n",
       "    <tr>\n",
       "      <th>chan1_cluster1_chan2_cluster0_chan3_cluster3</th>\n",
       "      <td>3.47</td>\n",
       "    </tr>\n",
       "    <tr>\n",
       "      <th>chan1_cluster1_chan2_cluster1_chan3_cluster0</th>\n",
       "      <td>3.10</td>\n",
       "    </tr>\n",
       "    <tr>\n",
       "      <th>chan1_cluster1_chan2_cluster1_chan3_cluster1</th>\n",
       "      <td>5.65</td>\n",
       "    </tr>\n",
       "    <tr>\n",
       "      <th>chan1_cluster1_chan2_cluster1_chan3_cluster2</th>\n",
       "      <td>1.35</td>\n",
       "    </tr>\n",
       "    <tr>\n",
       "      <th>chan1_cluster1_chan2_cluster1_chan3_cluster3</th>\n",
       "      <td>21.66</td>\n",
       "    </tr>\n",
       "    <tr>\n",
       "      <th>chan1_cluster1_chan2_cluster2_chan3_cluster0</th>\n",
       "      <td>0.09</td>\n",
       "    </tr>\n",
       "    <tr>\n",
       "      <th>chan1_cluster1_chan2_cluster2_chan3_cluster1</th>\n",
       "      <td>0.51</td>\n",
       "    </tr>\n",
       "    <tr>\n",
       "      <th>chan1_cluster1_chan2_cluster2_chan3_cluster2</th>\n",
       "      <td>0.51</td>\n",
       "    </tr>\n",
       "    <tr>\n",
       "      <th>chan1_cluster1_chan2_cluster2_chan3_cluster3</th>\n",
       "      <td>26.85</td>\n",
       "    </tr>\n",
       "    <tr>\n",
       "      <th>chan1_cluster1_chan2_cluster3_chan3_cluster0</th>\n",
       "      <td>0.13</td>\n",
       "    </tr>\n",
       "    <tr>\n",
       "      <th>chan1_cluster1_chan2_cluster3_chan3_cluster1</th>\n",
       "      <td>0.35</td>\n",
       "    </tr>\n",
       "    <tr>\n",
       "      <th>chan1_cluster1_chan2_cluster3_chan3_cluster2</th>\n",
       "      <td>0.03</td>\n",
       "    </tr>\n",
       "    <tr>\n",
       "      <th>chan1_cluster1_chan2_cluster3_chan3_cluster3</th>\n",
       "      <td>0.56</td>\n",
       "    </tr>\n",
       "  </tbody>\n",
       "</table>\n",
       "</div>"
      ],
      "text/plain": [
       "                                              Instance_number\n",
       "Channel                                                      \n",
       "chan1_cluster0_chan2_cluster2_chan3_cluster3            22.59\n",
       "chan1_cluster1_chan2_cluster0_chan3_cluster0             0.10\n",
       "chan1_cluster1_chan2_cluster0_chan3_cluster1             0.40\n",
       "chan1_cluster1_chan2_cluster0_chan3_cluster2            12.65\n",
       "chan1_cluster1_chan2_cluster0_chan3_cluster3             3.47\n",
       "chan1_cluster1_chan2_cluster1_chan3_cluster0             3.10\n",
       "chan1_cluster1_chan2_cluster1_chan3_cluster1             5.65\n",
       "chan1_cluster1_chan2_cluster1_chan3_cluster2             1.35\n",
       "chan1_cluster1_chan2_cluster1_chan3_cluster3            21.66\n",
       "chan1_cluster1_chan2_cluster2_chan3_cluster0             0.09\n",
       "chan1_cluster1_chan2_cluster2_chan3_cluster1             0.51\n",
       "chan1_cluster1_chan2_cluster2_chan3_cluster2             0.51\n",
       "chan1_cluster1_chan2_cluster2_chan3_cluster3            26.85\n",
       "chan1_cluster1_chan2_cluster3_chan3_cluster0             0.13\n",
       "chan1_cluster1_chan2_cluster3_chan3_cluster1             0.35\n",
       "chan1_cluster1_chan2_cluster3_chan3_cluster2             0.03\n",
       "chan1_cluster1_chan2_cluster3_chan3_cluster3             0.56"
      ]
     },
     "execution_count": 142,
     "metadata": {},
     "output_type": "execute_result"
    }
   ],
   "source": [
    "(df_cluster.groupby(['Channel']).count()[['Instance_number']] / df_cluster.count()[['Instance_number']]*100).round(2)"
   ]
  },
  {
   "cell_type": "code",
   "execution_count": 149,
   "metadata": {
    "colab": {},
    "colab_type": "code",
    "id": "NQ_pUgDJr_vm"
   },
   "outputs": [],
   "source": [
    "dropped_channels = ['chan1_cluster1_chan2_cluster0_chan3_cluster0','chan1_cluster1_chan2_cluster2_chan3_cluster0',\n",
    "                   'chan1_cluster1_chan2_cluster3_chan3_cluster2']"
   ]
  },
  {
   "cell_type": "code",
   "execution_count": 150,
   "metadata": {
    "colab": {},
    "colab_type": "code",
    "id": "G_YZEo6Wr_v5"
   },
   "outputs": [],
   "source": [
    "df_object_feature = pd.DataFrame(read_arff(fPath))\n",
    "data_set = pd.merge(df_object_feature,df_cluster,on='Instance_number')\n",
    "data_set=standardize(data_set,all_features)"
   ]
  },
  {
   "cell_type": "code",
   "execution_count": 151,
   "metadata": {},
   "outputs": [],
   "source": [
    "all_channels = ['Channel_1', 'Channel_2', 'Channel_3','Channel']"
   ]
  },
  {
   "cell_type": "markdown",
   "metadata": {},
   "source": [
    "### Learning Effect Category Prediction\n",
    "- A SVM classifier is trained to predict the effect category for a given feature vector and a behavior.\n",
    "- For the Behavior#3 (Lift Behaviour), each channel is separately predicted. Also, all-channel effect categories are predicted. \n",
    "- The prediction accuracy for the visibility channel and the position channel is higher than for the shape channel.\n",
    "- When the rare clusters are removed, the accuracy increases from 84% to 85% for all-channel effect categories.\n",
    "- When the position features are removed, the predictability of all-channel, channel#2 and channel#3 decrease."
   ]
  },
  {
   "cell_type": "code",
   "execution_count": 152,
   "metadata": {
    "colab": {},
    "colab_type": "code",
    "id": "cuHbfdCZr_v-"
   },
   "outputs": [],
   "source": [
    "xTrain, xTest, yTrain, yTest = model_selection.train_test_split(data_set[all_features + all_channels], data_set[all_channels],\n",
    "                                                                  test_size=0.2, train_size=0.8)\n",
    "\n",
    "xTrain_red = copy.deepcopy(xTrain)\n",
    "xTest_red = copy.deepcopy(xTest)\n",
    "\n",
    "for channel in dropped_channels:    \n",
    "    xTrain_red = copy.deepcopy(xTrain_red.loc[xTrain_red['Channel'] != channel])\n",
    "    xTest_red = copy.deepcopy(xTest_red.loc[xTest_red['Channel'] != channel])\n"
   ]
  },
  {
   "cell_type": "code",
   "execution_count": 153,
   "metadata": {},
   "outputs": [
    {
     "name": "stdout",
     "output_type": "stream",
     "text": [
      "Prediction Accuracy for Channel_1\n",
      "1.0\n",
      "Prediction Accuracy for Channel_2\n",
      "0.9905234657039711\n",
      "Prediction Accuracy for Channel_3\n",
      "0.8578519855595668\n",
      "Prediction Accuracy for All-channel\n",
      "0.848826714801444\n"
     ]
    }
   ],
   "source": [
    "for channel in all_channels:\n",
    "    if channel =='Channel':\n",
    "        print('Prediction Accuracy for All-channel')\n",
    "    else:\n",
    "        print('Prediction Accuracy for %s' % channel)\n",
    "    all_pred = run_SVM(np.asarray(xTrain[all_features]), np.asarray(xTrain[channel]),\n",
    "                       np.asarray(xTest[all_features]), np.asarray(xTest[channel]))"
   ]
  },
  {
   "cell_type": "code",
   "execution_count": 154,
   "metadata": {},
   "outputs": [
    {
     "name": "stdout",
     "output_type": "stream",
     "text": [
      "Prediction Accuracy for Channel_1\n",
      "1.0\n",
      "Prediction Accuracy for Channel_2\n",
      "0.990506329113924\n",
      "Prediction Accuracy for Channel_3\n",
      "0.8580470162748643\n",
      "Prediction Accuracy for All-channel\n",
      "0.8503616636528029\n"
     ]
    }
   ],
   "source": [
    "for channel in all_channels:\n",
    "    if channel =='Channel':\n",
    "        print('Prediction Accuracy for All-channel')\n",
    "    else:\n",
    "        print('Prediction Accuracy for %s' % channel)\n",
    "    all_pred = run_SVM(np.asarray(xTrain_red[all_features]), np.asarray(xTrain_red[channel]),\n",
    "                       np.asarray(xTest_red[all_features]), np.asarray(xTest_red[channel]))"
   ]
  },
  {
   "cell_type": "code",
   "execution_count": 158,
   "metadata": {},
   "outputs": [
    {
     "name": "stdout",
     "output_type": "stream",
     "text": [
      "Prediction Accuracy for Channel_1\n",
      "1.0\n",
      "Prediction Accuracy for Channel_2\n",
      "0.6863718411552346\n",
      "Prediction Accuracy for Channel_3\n",
      "0.8235559566787004\n",
      "Prediction Accuracy for All-channel\n",
      "0.5537003610108303\n"
     ]
    }
   ],
   "source": [
    "for channel in all_channels:\n",
    "    if channel =='Channel':\n",
    "        print('Prediction Accuracy for All-channel')\n",
    "    else:\n",
    "        print('Prediction Accuracy for %s' % channel)\n",
    "    all_pred = run_SVM(np.asarray(xTrain[feature_set_1 + feature_set_3]), np.asarray(xTrain[channel]),\n",
    "                       np.asarray(xTest[feature_set_1 + feature_set_3]), np.asarray(xTest[channel]))"
   ]
  }
 ],
 "metadata": {
  "colab": {
   "name": "Hw2.ipynb",
   "provenance": []
  },
  "kernelspec": {
   "display_name": "Python 3",
   "language": "python",
   "name": "python3"
  },
  "language_info": {
   "codemirror_mode": {
    "name": "ipython",
    "version": 3
   },
   "file_extension": ".py",
   "mimetype": "text/x-python",
   "name": "python",
   "nbconvert_exporter": "python",
   "pygments_lexer": "ipython3",
   "version": "3.6.9"
  }
 },
 "nbformat": 4,
 "nbformat_minor": 1
}
